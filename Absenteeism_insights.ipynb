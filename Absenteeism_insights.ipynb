{
 "cells": [
  {
   "cell_type": "code",
   "execution_count": 1,
   "metadata": {},
   "outputs": [],
   "source": [
    "%matplotlib inline\n",
    "import pandas as pd\n",
    "import matplotlib.pyplot as plt\n",
    "from statsmodels.graphics import tsaplots\n",
    "import statsmodels.api as sm\n",
    "import seaborn as sns\n",
    "import numpy as np\n",
    "from sklearn.model_selection import train_test_split\n",
    "from sklearn.ensemble import RandomForestRegressor, RandomForestClassifier\n",
    "from sklearn.metrics import r2_score, mean_squared_error as MSE\n",
    "from scipy.stats import spearmanr, pearsonr\n",
    "from sklearn import metrics\n",
    "from sklearn.metrics import classification_report\n",
    "from scipy.cluster import hierarchy as hc\n",
    "import scipy\n",
    "from collections import Counter"
   ]
  },
  {
   "cell_type": "code",
   "execution_count": 2,
   "metadata": {},
   "outputs": [],
   "source": [
    "df = pd.read_csv('Absenteeism_at_work.csv',sep=';')"
   ]
  },
  {
   "cell_type": "code",
   "execution_count": 3,
   "metadata": {},
   "outputs": [],
   "source": [
    "temp=df.copy()"
   ]
  },
  {
   "cell_type": "code",
   "execution_count": 4,
   "metadata": {},
   "outputs": [
    {
     "name": "stdout",
     "output_type": "stream",
     "text": [
      "<class 'pandas.core.frame.DataFrame'>\n",
      "RangeIndex: 740 entries, 0 to 739\n",
      "Data columns (total 21 columns):\n",
      " #   Column                           Non-Null Count  Dtype  \n",
      "---  ------                           --------------  -----  \n",
      " 0   ID                               740 non-null    int64  \n",
      " 1   Reason for absence               740 non-null    int64  \n",
      " 2   Month of absence                 740 non-null    int64  \n",
      " 3   Day of the week                  740 non-null    int64  \n",
      " 4   Seasons                          740 non-null    int64  \n",
      " 5   Transportation expense           740 non-null    int64  \n",
      " 6   Distance from Residence to Work  740 non-null    int64  \n",
      " 7   Service time                     740 non-null    int64  \n",
      " 8   Age                              740 non-null    int64  \n",
      " 9   Work load Average/day            740 non-null    float64\n",
      " 10  Hit target                       740 non-null    int64  \n",
      " 11  Disciplinary failure             740 non-null    int64  \n",
      " 12  Education                        740 non-null    int64  \n",
      " 13  Son                              740 non-null    int64  \n",
      " 14  Social drinker                   740 non-null    int64  \n",
      " 15  Social smoker                    740 non-null    int64  \n",
      " 16  Pet                              740 non-null    int64  \n",
      " 17  Weight                           740 non-null    int64  \n",
      " 18  Height                           740 non-null    int64  \n",
      " 19  Body mass index                  740 non-null    int64  \n",
      " 20  Absenteeism time in hours        740 non-null    int64  \n",
      "dtypes: float64(1), int64(20)\n",
      "memory usage: 121.5 KB\n"
     ]
    }
   ],
   "source": [
    "temp.info()"
   ]
  },
  {
   "cell_type": "code",
   "execution_count": 5,
   "metadata": {},
   "outputs": [],
   "source": [
    "temp['Reason for absence'] = df['Reason for absence'].astype('category')\n",
    "temp['Month of absence'] = df['Month of absence'].astype('category')\n",
    "temp['Day of the week'] = df['Day of the week'].astype('category')\n",
    "temp['Seasons'] = df['Seasons'].astype('category')\n",
    "temp['Disciplinary failure'] = df['Disciplinary failure'].astype('bool')\n",
    "temp['Education'] = df['Education'].astype('category')\n",
    "temp['Social drinker'] = df['Social drinker'].astype('bool')\n",
    "temp['Social smoker'] = df['Social smoker'].astype('bool')"
   ]
  },
  {
   "cell_type": "code",
   "execution_count": 6,
   "metadata": {},
   "outputs": [
    {
     "name": "stdout",
     "output_type": "stream",
     "text": [
      "<class 'pandas.core.frame.DataFrame'>\n",
      "RangeIndex: 740 entries, 0 to 739\n",
      "Data columns (total 21 columns):\n",
      " #   Column                           Non-Null Count  Dtype   \n",
      "---  ------                           --------------  -----   \n",
      " 0   ID                               740 non-null    int64   \n",
      " 1   Reason for absence               740 non-null    category\n",
      " 2   Month of absence                 740 non-null    category\n",
      " 3   Day of the week                  740 non-null    category\n",
      " 4   Seasons                          740 non-null    category\n",
      " 5   Transportation expense           740 non-null    int64   \n",
      " 6   Distance from Residence to Work  740 non-null    int64   \n",
      " 7   Service time                     740 non-null    int64   \n",
      " 8   Age                              740 non-null    int64   \n",
      " 9   Work load Average/day            740 non-null    float64 \n",
      " 10  Hit target                       740 non-null    int64   \n",
      " 11  Disciplinary failure             740 non-null    bool    \n",
      " 12  Education                        740 non-null    category\n",
      " 13  Son                              740 non-null    int64   \n",
      " 14  Social drinker                   740 non-null    bool    \n",
      " 15  Social smoker                    740 non-null    bool    \n",
      " 16  Pet                              740 non-null    int64   \n",
      " 17  Weight                           740 non-null    int64   \n",
      " 18  Height                           740 non-null    int64   \n",
      " 19  Body mass index                  740 non-null    int64   \n",
      " 20  Absenteeism time in hours        740 non-null    int64   \n",
      "dtypes: bool(3), category(5), float64(1), int64(12)\n",
      "memory usage: 83.8 KB\n"
     ]
    }
   ],
   "source": [
    "temp.info()"
   ]
  },
  {
   "cell_type": "code",
   "execution_count": 7,
   "metadata": {},
   "outputs": [],
   "source": [
    "pd.options.display.max_columns=None\n",
    "pd.options.display.max_rows=None"
   ]
  },
  {
   "cell_type": "code",
   "execution_count": 8,
   "metadata": {},
   "outputs": [
    {
     "data": {
      "text/html": [
       "<div>\n",
       "<style scoped>\n",
       "    .dataframe tbody tr th:only-of-type {\n",
       "        vertical-align: middle;\n",
       "    }\n",
       "\n",
       "    .dataframe tbody tr th {\n",
       "        vertical-align: top;\n",
       "    }\n",
       "\n",
       "    .dataframe thead th {\n",
       "        text-align: right;\n",
       "    }\n",
       "</style>\n",
       "<table border=\"1\" class=\"dataframe\">\n",
       "  <thead>\n",
       "    <tr style=\"text-align: right;\">\n",
       "      <th></th>\n",
       "      <th>ID</th>\n",
       "      <th>Reason for absence</th>\n",
       "      <th>Month of absence</th>\n",
       "      <th>Day of the week</th>\n",
       "      <th>Seasons</th>\n",
       "      <th>Transportation expense</th>\n",
       "      <th>Distance from Residence to Work</th>\n",
       "      <th>Service time</th>\n",
       "      <th>Age</th>\n",
       "      <th>Work load Average/day</th>\n",
       "      <th>Hit target</th>\n",
       "      <th>Disciplinary failure</th>\n",
       "      <th>Education</th>\n",
       "      <th>Son</th>\n",
       "      <th>Social drinker</th>\n",
       "      <th>Social smoker</th>\n",
       "      <th>Pet</th>\n",
       "      <th>Weight</th>\n",
       "      <th>Height</th>\n",
       "      <th>Body mass index</th>\n",
       "      <th>Absenteeism time in hours</th>\n",
       "    </tr>\n",
       "  </thead>\n",
       "  <tbody>\n",
       "    <tr>\n",
       "      <th>0</th>\n",
       "      <td>11</td>\n",
       "      <td>26</td>\n",
       "      <td>7</td>\n",
       "      <td>3</td>\n",
       "      <td>1</td>\n",
       "      <td>289</td>\n",
       "      <td>36</td>\n",
       "      <td>13</td>\n",
       "      <td>33</td>\n",
       "      <td>239.554</td>\n",
       "      <td>97</td>\n",
       "      <td>False</td>\n",
       "      <td>1</td>\n",
       "      <td>2</td>\n",
       "      <td>True</td>\n",
       "      <td>False</td>\n",
       "      <td>1</td>\n",
       "      <td>90</td>\n",
       "      <td>172</td>\n",
       "      <td>30</td>\n",
       "      <td>4</td>\n",
       "    </tr>\n",
       "    <tr>\n",
       "      <th>1</th>\n",
       "      <td>36</td>\n",
       "      <td>0</td>\n",
       "      <td>7</td>\n",
       "      <td>3</td>\n",
       "      <td>1</td>\n",
       "      <td>118</td>\n",
       "      <td>13</td>\n",
       "      <td>18</td>\n",
       "      <td>50</td>\n",
       "      <td>239.554</td>\n",
       "      <td>97</td>\n",
       "      <td>True</td>\n",
       "      <td>1</td>\n",
       "      <td>1</td>\n",
       "      <td>True</td>\n",
       "      <td>False</td>\n",
       "      <td>0</td>\n",
       "      <td>98</td>\n",
       "      <td>178</td>\n",
       "      <td>31</td>\n",
       "      <td>0</td>\n",
       "    </tr>\n",
       "    <tr>\n",
       "      <th>2</th>\n",
       "      <td>3</td>\n",
       "      <td>23</td>\n",
       "      <td>7</td>\n",
       "      <td>4</td>\n",
       "      <td>1</td>\n",
       "      <td>179</td>\n",
       "      <td>51</td>\n",
       "      <td>18</td>\n",
       "      <td>38</td>\n",
       "      <td>239.554</td>\n",
       "      <td>97</td>\n",
       "      <td>False</td>\n",
       "      <td>1</td>\n",
       "      <td>0</td>\n",
       "      <td>True</td>\n",
       "      <td>False</td>\n",
       "      <td>0</td>\n",
       "      <td>89</td>\n",
       "      <td>170</td>\n",
       "      <td>31</td>\n",
       "      <td>2</td>\n",
       "    </tr>\n",
       "    <tr>\n",
       "      <th>3</th>\n",
       "      <td>7</td>\n",
       "      <td>7</td>\n",
       "      <td>7</td>\n",
       "      <td>5</td>\n",
       "      <td>1</td>\n",
       "      <td>279</td>\n",
       "      <td>5</td>\n",
       "      <td>14</td>\n",
       "      <td>39</td>\n",
       "      <td>239.554</td>\n",
       "      <td>97</td>\n",
       "      <td>False</td>\n",
       "      <td>1</td>\n",
       "      <td>2</td>\n",
       "      <td>True</td>\n",
       "      <td>True</td>\n",
       "      <td>0</td>\n",
       "      <td>68</td>\n",
       "      <td>168</td>\n",
       "      <td>24</td>\n",
       "      <td>4</td>\n",
       "    </tr>\n",
       "    <tr>\n",
       "      <th>4</th>\n",
       "      <td>11</td>\n",
       "      <td>23</td>\n",
       "      <td>7</td>\n",
       "      <td>5</td>\n",
       "      <td>1</td>\n",
       "      <td>289</td>\n",
       "      <td>36</td>\n",
       "      <td>13</td>\n",
       "      <td>33</td>\n",
       "      <td>239.554</td>\n",
       "      <td>97</td>\n",
       "      <td>False</td>\n",
       "      <td>1</td>\n",
       "      <td>2</td>\n",
       "      <td>True</td>\n",
       "      <td>False</td>\n",
       "      <td>1</td>\n",
       "      <td>90</td>\n",
       "      <td>172</td>\n",
       "      <td>30</td>\n",
       "      <td>2</td>\n",
       "    </tr>\n",
       "  </tbody>\n",
       "</table>\n",
       "</div>"
      ],
      "text/plain": [
       "   ID Reason for absence Month of absence Day of the week Seasons  \\\n",
       "0  11                 26                7               3       1   \n",
       "1  36                  0                7               3       1   \n",
       "2   3                 23                7               4       1   \n",
       "3   7                  7                7               5       1   \n",
       "4  11                 23                7               5       1   \n",
       "\n",
       "   Transportation expense  Distance from Residence to Work  Service time  Age  \\\n",
       "0                     289                               36            13   33   \n",
       "1                     118                               13            18   50   \n",
       "2                     179                               51            18   38   \n",
       "3                     279                                5            14   39   \n",
       "4                     289                               36            13   33   \n",
       "\n",
       "   Work load Average/day   Hit target  Disciplinary failure Education  Son  \\\n",
       "0                 239.554          97                 False         1    2   \n",
       "1                 239.554          97                  True         1    1   \n",
       "2                 239.554          97                 False         1    0   \n",
       "3                 239.554          97                 False         1    2   \n",
       "4                 239.554          97                 False         1    2   \n",
       "\n",
       "   Social drinker  Social smoker  Pet  Weight  Height  Body mass index  \\\n",
       "0            True          False    1      90     172               30   \n",
       "1            True          False    0      98     178               31   \n",
       "2            True          False    0      89     170               31   \n",
       "3            True           True    0      68     168               24   \n",
       "4            True          False    1      90     172               30   \n",
       "\n",
       "   Absenteeism time in hours  \n",
       "0                          4  \n",
       "1                          0  \n",
       "2                          2  \n",
       "3                          4  \n",
       "4                          2  "
      ]
     },
     "execution_count": 8,
     "metadata": {},
     "output_type": "execute_result"
    }
   ],
   "source": [
    "temp.head()"
   ]
  },
  {
   "cell_type": "code",
   "execution_count": 9,
   "metadata": {},
   "outputs": [
    {
     "data": {
      "text/plain": [
       "44"
      ]
     },
     "execution_count": 9,
     "metadata": {},
     "output_type": "execute_result"
    }
   ],
   "source": [
    "len(temp[temp['Absenteeism time in hours']==0])"
   ]
  },
  {
   "cell_type": "code",
   "execution_count": 10,
   "metadata": {},
   "outputs": [
    {
     "data": {
      "text/plain": [
       "40"
      ]
     },
     "execution_count": 10,
     "metadata": {},
     "output_type": "execute_result"
    }
   ],
   "source": [
    "len(temp[temp['Disciplinary failure']==True])"
   ]
  },
  {
   "cell_type": "code",
   "execution_count": 11,
   "metadata": {},
   "outputs": [
    {
     "data": {
      "text/plain": [
       "4"
      ]
     },
     "execution_count": 11,
     "metadata": {},
     "output_type": "execute_result"
    }
   ],
   "source": [
    "len(temp[(temp['Absenteeism time in hours']==0) & (temp['Disciplinary failure']==False)])"
   ]
  },
  {
   "cell_type": "code",
   "execution_count": 12,
   "metadata": {},
   "outputs": [
    {
     "data": {
      "text/html": [
       "<div>\n",
       "<style scoped>\n",
       "    .dataframe tbody tr th:only-of-type {\n",
       "        vertical-align: middle;\n",
       "    }\n",
       "\n",
       "    .dataframe tbody tr th {\n",
       "        vertical-align: top;\n",
       "    }\n",
       "\n",
       "    .dataframe thead th {\n",
       "        text-align: right;\n",
       "    }\n",
       "</style>\n",
       "<table border=\"1\" class=\"dataframe\">\n",
       "  <thead>\n",
       "    <tr style=\"text-align: right;\">\n",
       "      <th></th>\n",
       "      <th>ID</th>\n",
       "      <th>Reason for absence</th>\n",
       "      <th>Month of absence</th>\n",
       "      <th>Day of the week</th>\n",
       "      <th>Seasons</th>\n",
       "      <th>Transportation expense</th>\n",
       "      <th>Distance from Residence to Work</th>\n",
       "      <th>Service time</th>\n",
       "      <th>Age</th>\n",
       "      <th>Work load Average/day</th>\n",
       "      <th>Hit target</th>\n",
       "      <th>Disciplinary failure</th>\n",
       "      <th>Education</th>\n",
       "      <th>Son</th>\n",
       "      <th>Social drinker</th>\n",
       "      <th>Social smoker</th>\n",
       "      <th>Pet</th>\n",
       "      <th>Weight</th>\n",
       "      <th>Height</th>\n",
       "      <th>Body mass index</th>\n",
       "      <th>Absenteeism time in hours</th>\n",
       "    </tr>\n",
       "  </thead>\n",
       "  <tbody>\n",
       "    <tr>\n",
       "      <th>134</th>\n",
       "      <td>34</td>\n",
       "      <td>27</td>\n",
       "      <td>1</td>\n",
       "      <td>2</td>\n",
       "      <td>2</td>\n",
       "      <td>118</td>\n",
       "      <td>10</td>\n",
       "      <td>10</td>\n",
       "      <td>37</td>\n",
       "      <td>308.593</td>\n",
       "      <td>95</td>\n",
       "      <td>False</td>\n",
       "      <td>1</td>\n",
       "      <td>0</td>\n",
       "      <td>False</td>\n",
       "      <td>False</td>\n",
       "      <td>0</td>\n",
       "      <td>83</td>\n",
       "      <td>172</td>\n",
       "      <td>28</td>\n",
       "      <td>0</td>\n",
       "    </tr>\n",
       "    <tr>\n",
       "      <th>737</th>\n",
       "      <td>4</td>\n",
       "      <td>0</td>\n",
       "      <td>0</td>\n",
       "      <td>3</td>\n",
       "      <td>1</td>\n",
       "      <td>118</td>\n",
       "      <td>14</td>\n",
       "      <td>13</td>\n",
       "      <td>40</td>\n",
       "      <td>271.219</td>\n",
       "      <td>95</td>\n",
       "      <td>False</td>\n",
       "      <td>1</td>\n",
       "      <td>1</td>\n",
       "      <td>True</td>\n",
       "      <td>False</td>\n",
       "      <td>8</td>\n",
       "      <td>98</td>\n",
       "      <td>170</td>\n",
       "      <td>34</td>\n",
       "      <td>0</td>\n",
       "    </tr>\n",
       "    <tr>\n",
       "      <th>738</th>\n",
       "      <td>8</td>\n",
       "      <td>0</td>\n",
       "      <td>0</td>\n",
       "      <td>4</td>\n",
       "      <td>2</td>\n",
       "      <td>231</td>\n",
       "      <td>35</td>\n",
       "      <td>14</td>\n",
       "      <td>39</td>\n",
       "      <td>271.219</td>\n",
       "      <td>95</td>\n",
       "      <td>False</td>\n",
       "      <td>1</td>\n",
       "      <td>2</td>\n",
       "      <td>True</td>\n",
       "      <td>False</td>\n",
       "      <td>2</td>\n",
       "      <td>100</td>\n",
       "      <td>170</td>\n",
       "      <td>35</td>\n",
       "      <td>0</td>\n",
       "    </tr>\n",
       "    <tr>\n",
       "      <th>739</th>\n",
       "      <td>35</td>\n",
       "      <td>0</td>\n",
       "      <td>0</td>\n",
       "      <td>6</td>\n",
       "      <td>3</td>\n",
       "      <td>179</td>\n",
       "      <td>45</td>\n",
       "      <td>14</td>\n",
       "      <td>53</td>\n",
       "      <td>271.219</td>\n",
       "      <td>95</td>\n",
       "      <td>False</td>\n",
       "      <td>1</td>\n",
       "      <td>1</td>\n",
       "      <td>False</td>\n",
       "      <td>False</td>\n",
       "      <td>1</td>\n",
       "      <td>77</td>\n",
       "      <td>175</td>\n",
       "      <td>25</td>\n",
       "      <td>0</td>\n",
       "    </tr>\n",
       "  </tbody>\n",
       "</table>\n",
       "</div>"
      ],
      "text/plain": [
       "     ID Reason for absence Month of absence Day of the week Seasons  \\\n",
       "134  34                 27                1               2       2   \n",
       "737   4                  0                0               3       1   \n",
       "738   8                  0                0               4       2   \n",
       "739  35                  0                0               6       3   \n",
       "\n",
       "     Transportation expense  Distance from Residence to Work  Service time  \\\n",
       "134                     118                               10            10   \n",
       "737                     118                               14            13   \n",
       "738                     231                               35            14   \n",
       "739                     179                               45            14   \n",
       "\n",
       "     Age  Work load Average/day   Hit target  Disciplinary failure Education  \\\n",
       "134   37                 308.593          95                 False         1   \n",
       "737   40                 271.219          95                 False         1   \n",
       "738   39                 271.219          95                 False         1   \n",
       "739   53                 271.219          95                 False         1   \n",
       "\n",
       "     Son  Social drinker  Social smoker  Pet  Weight  Height  Body mass index  \\\n",
       "134    0           False          False    0      83     172               28   \n",
       "737    1            True          False    8      98     170               34   \n",
       "738    2            True          False    2     100     170               35   \n",
       "739    1           False          False    1      77     175               25   \n",
       "\n",
       "     Absenteeism time in hours  \n",
       "134                          0  \n",
       "737                          0  \n",
       "738                          0  \n",
       "739                          0  "
      ]
     },
     "execution_count": 12,
     "metadata": {},
     "output_type": "execute_result"
    }
   ],
   "source": [
    "temp[(temp['Absenteeism time in hours']==0) & (temp['Disciplinary failure']==False)]\n"
   ]
  },
  {
   "cell_type": "code",
   "execution_count": 13,
   "metadata": {},
   "outputs": [
    {
     "name": "stdout",
     "output_type": "stream",
     "text": [
      "Since column 737,738 and 739 have 0 absent entries we ignore them for the time being \n"
     ]
    }
   ],
   "source": [
    "print(\"Since column 737,738 and 739 have 0 absent entries we ignore them for the time being \")"
   ]
  },
  {
   "cell_type": "code",
   "execution_count": 14,
   "metadata": {},
   "outputs": [],
   "source": [
    "temp = temp[temp['Month of absence'] != 0]"
   ]
  },
  {
   "cell_type": "code",
   "execution_count": 15,
   "metadata": {},
   "outputs": [
    {
     "data": {
      "text/plain": [
       "Absenteeism time in hours    2.275362\n",
       "dtype: float64"
      ]
     },
     "execution_count": 15,
     "metadata": {},
     "output_type": "execute_result"
    }
   ],
   "source": [
    "temp[temp['Reason for absence']==27][['Absenteeism time in hours']].mean()"
   ]
  },
  {
   "cell_type": "code",
   "execution_count": 16,
   "metadata": {},
   "outputs": [
    {
     "name": "stdout",
     "output_type": "stream",
     "text": [
      "We find that the 134th entry for ID 34 has a reason for absence (27),yet absenteeism in hours is given as 0. Since we find the mean for Reason for absence 27 to be 2.27, let us assign absenteeism in hours for the 134th entry as 2 hours \n"
     ]
    }
   ],
   "source": [
    "print(\"We find that the 134th entry for ID 34 has a reason for absence (27),yet absenteeism in hours is given as 0. Since we find the mean for Reason for absence 27 to be 2.27, let us assign absenteeism in hours for the 134th entry as 2 hours \")"
   ]
  },
  {
   "cell_type": "code",
   "execution_count": 17,
   "metadata": {},
   "outputs": [],
   "source": [
    "temp.loc[(temp['Reason for absence']==27) & (temp['Absenteeism time in hours']==0),'Absenteeism time in hours']=2"
   ]
  },
  {
   "cell_type": "code",
   "execution_count": 18,
   "metadata": {},
   "outputs": [
    {
     "data": {
      "text/html": [
       "<div>\n",
       "<style scoped>\n",
       "    .dataframe tbody tr th:only-of-type {\n",
       "        vertical-align: middle;\n",
       "    }\n",
       "\n",
       "    .dataframe tbody tr th {\n",
       "        vertical-align: top;\n",
       "    }\n",
       "\n",
       "    .dataframe thead th {\n",
       "        text-align: right;\n",
       "    }\n",
       "</style>\n",
       "<table border=\"1\" class=\"dataframe\">\n",
       "  <thead>\n",
       "    <tr style=\"text-align: right;\">\n",
       "      <th></th>\n",
       "      <th>ID</th>\n",
       "      <th>Reason for absence</th>\n",
       "      <th>Month of absence</th>\n",
       "      <th>Day of the week</th>\n",
       "      <th>Seasons</th>\n",
       "      <th>Transportation expense</th>\n",
       "      <th>Distance from Residence to Work</th>\n",
       "      <th>Service time</th>\n",
       "      <th>Age</th>\n",
       "      <th>Work load Average/day</th>\n",
       "      <th>Hit target</th>\n",
       "      <th>Disciplinary failure</th>\n",
       "      <th>Education</th>\n",
       "      <th>Son</th>\n",
       "      <th>Social drinker</th>\n",
       "      <th>Social smoker</th>\n",
       "      <th>Pet</th>\n",
       "      <th>Weight</th>\n",
       "      <th>Height</th>\n",
       "      <th>Body mass index</th>\n",
       "      <th>Absenteeism time in hours</th>\n",
       "    </tr>\n",
       "  </thead>\n",
       "  <tbody>\n",
       "    <tr>\n",
       "      <th>0</th>\n",
       "      <td>11</td>\n",
       "      <td>26</td>\n",
       "      <td>7</td>\n",
       "      <td>3</td>\n",
       "      <td>1</td>\n",
       "      <td>289</td>\n",
       "      <td>36</td>\n",
       "      <td>13</td>\n",
       "      <td>33</td>\n",
       "      <td>239.554</td>\n",
       "      <td>97</td>\n",
       "      <td>False</td>\n",
       "      <td>1</td>\n",
       "      <td>2</td>\n",
       "      <td>True</td>\n",
       "      <td>False</td>\n",
       "      <td>1</td>\n",
       "      <td>90</td>\n",
       "      <td>172</td>\n",
       "      <td>30</td>\n",
       "      <td>4</td>\n",
       "    </tr>\n",
       "    <tr>\n",
       "      <th>1</th>\n",
       "      <td>36</td>\n",
       "      <td>0</td>\n",
       "      <td>7</td>\n",
       "      <td>3</td>\n",
       "      <td>1</td>\n",
       "      <td>118</td>\n",
       "      <td>13</td>\n",
       "      <td>18</td>\n",
       "      <td>50</td>\n",
       "      <td>239.554</td>\n",
       "      <td>97</td>\n",
       "      <td>True</td>\n",
       "      <td>1</td>\n",
       "      <td>1</td>\n",
       "      <td>True</td>\n",
       "      <td>False</td>\n",
       "      <td>0</td>\n",
       "      <td>98</td>\n",
       "      <td>178</td>\n",
       "      <td>31</td>\n",
       "      <td>0</td>\n",
       "    </tr>\n",
       "    <tr>\n",
       "      <th>2</th>\n",
       "      <td>3</td>\n",
       "      <td>23</td>\n",
       "      <td>7</td>\n",
       "      <td>4</td>\n",
       "      <td>1</td>\n",
       "      <td>179</td>\n",
       "      <td>51</td>\n",
       "      <td>18</td>\n",
       "      <td>38</td>\n",
       "      <td>239.554</td>\n",
       "      <td>97</td>\n",
       "      <td>False</td>\n",
       "      <td>1</td>\n",
       "      <td>0</td>\n",
       "      <td>True</td>\n",
       "      <td>False</td>\n",
       "      <td>0</td>\n",
       "      <td>89</td>\n",
       "      <td>170</td>\n",
       "      <td>31</td>\n",
       "      <td>2</td>\n",
       "    </tr>\n",
       "    <tr>\n",
       "      <th>3</th>\n",
       "      <td>7</td>\n",
       "      <td>7</td>\n",
       "      <td>7</td>\n",
       "      <td>5</td>\n",
       "      <td>1</td>\n",
       "      <td>279</td>\n",
       "      <td>5</td>\n",
       "      <td>14</td>\n",
       "      <td>39</td>\n",
       "      <td>239.554</td>\n",
       "      <td>97</td>\n",
       "      <td>False</td>\n",
       "      <td>1</td>\n",
       "      <td>2</td>\n",
       "      <td>True</td>\n",
       "      <td>True</td>\n",
       "      <td>0</td>\n",
       "      <td>68</td>\n",
       "      <td>168</td>\n",
       "      <td>24</td>\n",
       "      <td>4</td>\n",
       "    </tr>\n",
       "    <tr>\n",
       "      <th>4</th>\n",
       "      <td>11</td>\n",
       "      <td>23</td>\n",
       "      <td>7</td>\n",
       "      <td>5</td>\n",
       "      <td>1</td>\n",
       "      <td>289</td>\n",
       "      <td>36</td>\n",
       "      <td>13</td>\n",
       "      <td>33</td>\n",
       "      <td>239.554</td>\n",
       "      <td>97</td>\n",
       "      <td>False</td>\n",
       "      <td>1</td>\n",
       "      <td>2</td>\n",
       "      <td>True</td>\n",
       "      <td>False</td>\n",
       "      <td>1</td>\n",
       "      <td>90</td>\n",
       "      <td>172</td>\n",
       "      <td>30</td>\n",
       "      <td>2</td>\n",
       "    </tr>\n",
       "  </tbody>\n",
       "</table>\n",
       "</div>"
      ],
      "text/plain": [
       "   ID Reason for absence Month of absence Day of the week Seasons  \\\n",
       "0  11                 26                7               3       1   \n",
       "1  36                  0                7               3       1   \n",
       "2   3                 23                7               4       1   \n",
       "3   7                  7                7               5       1   \n",
       "4  11                 23                7               5       1   \n",
       "\n",
       "   Transportation expense  Distance from Residence to Work  Service time  Age  \\\n",
       "0                     289                               36            13   33   \n",
       "1                     118                               13            18   50   \n",
       "2                     179                               51            18   38   \n",
       "3                     279                                5            14   39   \n",
       "4                     289                               36            13   33   \n",
       "\n",
       "   Work load Average/day   Hit target  Disciplinary failure Education  Son  \\\n",
       "0                 239.554          97                 False         1    2   \n",
       "1                 239.554          97                  True         1    1   \n",
       "2                 239.554          97                 False         1    0   \n",
       "3                 239.554          97                 False         1    2   \n",
       "4                 239.554          97                 False         1    2   \n",
       "\n",
       "   Social drinker  Social smoker  Pet  Weight  Height  Body mass index  \\\n",
       "0            True          False    1      90     172               30   \n",
       "1            True          False    0      98     178               31   \n",
       "2            True          False    0      89     170               31   \n",
       "3            True           True    0      68     168               24   \n",
       "4            True          False    1      90     172               30   \n",
       "\n",
       "   Absenteeism time in hours  \n",
       "0                          4  \n",
       "1                          0  \n",
       "2                          2  \n",
       "3                          4  \n",
       "4                          2  "
      ]
     },
     "execution_count": 18,
     "metadata": {},
     "output_type": "execute_result"
    }
   ],
   "source": [
    "temp.head()"
   ]
  },
  {
   "cell_type": "code",
   "execution_count": 19,
   "metadata": {},
   "outputs": [
    {
     "data": {
      "text/plain": [
       "40"
      ]
     },
     "execution_count": 19,
     "metadata": {},
     "output_type": "execute_result"
    }
   ],
   "source": [
    "len(temp[temp['Absenteeism time in hours']==0])"
   ]
  },
  {
   "cell_type": "code",
   "execution_count": 20,
   "metadata": {},
   "outputs": [
    {
     "data": {
      "text/plain": [
       "40"
      ]
     },
     "execution_count": 20,
     "metadata": {},
     "output_type": "execute_result"
    }
   ],
   "source": [
    "len(temp[temp['Disciplinary failure']==True])"
   ]
  },
  {
   "cell_type": "code",
   "execution_count": 21,
   "metadata": {},
   "outputs": [
    {
     "name": "stdout",
     "output_type": "stream",
     "text": [
      "Classifying Seasons with respect to data provide: summer (1), autumn (2), winter (3), spring (4)\n"
     ]
    }
   ],
   "source": [
    "print(\"Classifying Seasons with respect to data provide: summer (1), autumn (2), winter (3), spring (4)\")"
   ]
  },
  {
   "cell_type": "code",
   "execution_count": 22,
   "metadata": {},
   "outputs": [],
   "source": [
    "s_map = {1:'Summer', 2:'Autumn', 3:'Winter', 4:'Spring'}\n"
   ]
  },
  {
   "cell_type": "code",
   "execution_count": 23,
   "metadata": {},
   "outputs": [],
   "source": [
    "temp['Season Name'] = temp.Seasons.map(s_map)\n",
    "temp['Season Name'] = temp['Season Name'].astype('category')\n"
   ]
  },
  {
   "cell_type": "code",
   "execution_count": 24,
   "metadata": {},
   "outputs": [
    {
     "data": {
      "text/html": [
       "<div>\n",
       "<style scoped>\n",
       "    .dataframe tbody tr th:only-of-type {\n",
       "        vertical-align: middle;\n",
       "    }\n",
       "\n",
       "    .dataframe tbody tr th {\n",
       "        vertical-align: top;\n",
       "    }\n",
       "\n",
       "    .dataframe thead th {\n",
       "        text-align: right;\n",
       "    }\n",
       "</style>\n",
       "<table border=\"1\" class=\"dataframe\">\n",
       "  <thead>\n",
       "    <tr style=\"text-align: right;\">\n",
       "      <th></th>\n",
       "      <th>ID</th>\n",
       "      <th>Reason for absence</th>\n",
       "      <th>Month of absence</th>\n",
       "      <th>Day of the week</th>\n",
       "      <th>Seasons</th>\n",
       "      <th>Transportation expense</th>\n",
       "      <th>Distance from Residence to Work</th>\n",
       "      <th>Service time</th>\n",
       "      <th>Age</th>\n",
       "      <th>Work load Average/day</th>\n",
       "      <th>Hit target</th>\n",
       "      <th>Disciplinary failure</th>\n",
       "      <th>Education</th>\n",
       "      <th>Son</th>\n",
       "      <th>Social drinker</th>\n",
       "      <th>Social smoker</th>\n",
       "      <th>Pet</th>\n",
       "      <th>Weight</th>\n",
       "      <th>Height</th>\n",
       "      <th>Body mass index</th>\n",
       "      <th>Absenteeism time in hours</th>\n",
       "      <th>Season Name</th>\n",
       "    </tr>\n",
       "  </thead>\n",
       "  <tbody>\n",
       "    <tr>\n",
       "      <th>0</th>\n",
       "      <td>11</td>\n",
       "      <td>26</td>\n",
       "      <td>7</td>\n",
       "      <td>3</td>\n",
       "      <td>1</td>\n",
       "      <td>289</td>\n",
       "      <td>36</td>\n",
       "      <td>13</td>\n",
       "      <td>33</td>\n",
       "      <td>239.554</td>\n",
       "      <td>97</td>\n",
       "      <td>False</td>\n",
       "      <td>1</td>\n",
       "      <td>2</td>\n",
       "      <td>True</td>\n",
       "      <td>False</td>\n",
       "      <td>1</td>\n",
       "      <td>90</td>\n",
       "      <td>172</td>\n",
       "      <td>30</td>\n",
       "      <td>4</td>\n",
       "      <td>Summer</td>\n",
       "    </tr>\n",
       "    <tr>\n",
       "      <th>1</th>\n",
       "      <td>36</td>\n",
       "      <td>0</td>\n",
       "      <td>7</td>\n",
       "      <td>3</td>\n",
       "      <td>1</td>\n",
       "      <td>118</td>\n",
       "      <td>13</td>\n",
       "      <td>18</td>\n",
       "      <td>50</td>\n",
       "      <td>239.554</td>\n",
       "      <td>97</td>\n",
       "      <td>True</td>\n",
       "      <td>1</td>\n",
       "      <td>1</td>\n",
       "      <td>True</td>\n",
       "      <td>False</td>\n",
       "      <td>0</td>\n",
       "      <td>98</td>\n",
       "      <td>178</td>\n",
       "      <td>31</td>\n",
       "      <td>0</td>\n",
       "      <td>Summer</td>\n",
       "    </tr>\n",
       "    <tr>\n",
       "      <th>2</th>\n",
       "      <td>3</td>\n",
       "      <td>23</td>\n",
       "      <td>7</td>\n",
       "      <td>4</td>\n",
       "      <td>1</td>\n",
       "      <td>179</td>\n",
       "      <td>51</td>\n",
       "      <td>18</td>\n",
       "      <td>38</td>\n",
       "      <td>239.554</td>\n",
       "      <td>97</td>\n",
       "      <td>False</td>\n",
       "      <td>1</td>\n",
       "      <td>0</td>\n",
       "      <td>True</td>\n",
       "      <td>False</td>\n",
       "      <td>0</td>\n",
       "      <td>89</td>\n",
       "      <td>170</td>\n",
       "      <td>31</td>\n",
       "      <td>2</td>\n",
       "      <td>Summer</td>\n",
       "    </tr>\n",
       "    <tr>\n",
       "      <th>3</th>\n",
       "      <td>7</td>\n",
       "      <td>7</td>\n",
       "      <td>7</td>\n",
       "      <td>5</td>\n",
       "      <td>1</td>\n",
       "      <td>279</td>\n",
       "      <td>5</td>\n",
       "      <td>14</td>\n",
       "      <td>39</td>\n",
       "      <td>239.554</td>\n",
       "      <td>97</td>\n",
       "      <td>False</td>\n",
       "      <td>1</td>\n",
       "      <td>2</td>\n",
       "      <td>True</td>\n",
       "      <td>True</td>\n",
       "      <td>0</td>\n",
       "      <td>68</td>\n",
       "      <td>168</td>\n",
       "      <td>24</td>\n",
       "      <td>4</td>\n",
       "      <td>Summer</td>\n",
       "    </tr>\n",
       "    <tr>\n",
       "      <th>4</th>\n",
       "      <td>11</td>\n",
       "      <td>23</td>\n",
       "      <td>7</td>\n",
       "      <td>5</td>\n",
       "      <td>1</td>\n",
       "      <td>289</td>\n",
       "      <td>36</td>\n",
       "      <td>13</td>\n",
       "      <td>33</td>\n",
       "      <td>239.554</td>\n",
       "      <td>97</td>\n",
       "      <td>False</td>\n",
       "      <td>1</td>\n",
       "      <td>2</td>\n",
       "      <td>True</td>\n",
       "      <td>False</td>\n",
       "      <td>1</td>\n",
       "      <td>90</td>\n",
       "      <td>172</td>\n",
       "      <td>30</td>\n",
       "      <td>2</td>\n",
       "      <td>Summer</td>\n",
       "    </tr>\n",
       "  </tbody>\n",
       "</table>\n",
       "</div>"
      ],
      "text/plain": [
       "   ID Reason for absence Month of absence Day of the week Seasons  \\\n",
       "0  11                 26                7               3       1   \n",
       "1  36                  0                7               3       1   \n",
       "2   3                 23                7               4       1   \n",
       "3   7                  7                7               5       1   \n",
       "4  11                 23                7               5       1   \n",
       "\n",
       "   Transportation expense  Distance from Residence to Work  Service time  Age  \\\n",
       "0                     289                               36            13   33   \n",
       "1                     118                               13            18   50   \n",
       "2                     179                               51            18   38   \n",
       "3                     279                                5            14   39   \n",
       "4                     289                               36            13   33   \n",
       "\n",
       "   Work load Average/day   Hit target  Disciplinary failure Education  Son  \\\n",
       "0                 239.554          97                 False         1    2   \n",
       "1                 239.554          97                  True         1    1   \n",
       "2                 239.554          97                 False         1    0   \n",
       "3                 239.554          97                 False         1    2   \n",
       "4                 239.554          97                 False         1    2   \n",
       "\n",
       "   Social drinker  Social smoker  Pet  Weight  Height  Body mass index  \\\n",
       "0            True          False    1      90     172               30   \n",
       "1            True          False    0      98     178               31   \n",
       "2            True          False    0      89     170               31   \n",
       "3            True           True    0      68     168               24   \n",
       "4            True          False    1      90     172               30   \n",
       "\n",
       "   Absenteeism time in hours Season Name  \n",
       "0                          4      Summer  \n",
       "1                          0      Summer  \n",
       "2                          2      Summer  \n",
       "3                          4      Summer  \n",
       "4                          2      Summer  "
      ]
     },
     "execution_count": 24,
     "metadata": {},
     "output_type": "execute_result"
    }
   ],
   "source": [
    "temp.head()"
   ]
  },
  {
   "cell_type": "code",
   "execution_count": 25,
   "metadata": {},
   "outputs": [
    {
     "name": "stdout",
     "output_type": "stream",
     "text": [
      "Classifying Day Of the week with respect to data provide: Monday (2), Tuesday (3), Wednesday (4), Thursday (5), Friday (6)\n"
     ]
    }
   ],
   "source": [
    "print(\"Classifying Day Of the week with respect to data provide: Monday (2), Tuesday (3), Wednesday (4), Thursday (5), Friday (6)\")"
   ]
  },
  {
   "cell_type": "code",
   "execution_count": 26,
   "metadata": {},
   "outputs": [],
   "source": [
    "day_map = {2:'Monday' , 3:'Tuesday', 4:'Wednesday', 5:'Thursday' , 6:'Friday'}"
   ]
  },
  {
   "cell_type": "code",
   "execution_count": 27,
   "metadata": {},
   "outputs": [],
   "source": [
    "temp['Day_of_the_week'] = temp['Day of the week'].map(day_map)\n",
    "temp['Day_of_the_week'] = temp['Day_of_the_week'].astype('category')"
   ]
  },
  {
   "cell_type": "code",
   "execution_count": 28,
   "metadata": {},
   "outputs": [
    {
     "name": "stdout",
     "output_type": "stream",
     "text": [
      "Classifying Reasons Of absence\n"
     ]
    }
   ],
   "source": [
    "print(\"Classifying Reasons Of absence\")"
   ]
  },
  {
   "cell_type": "code",
   "execution_count": 29,
   "metadata": {},
   "outputs": [],
   "source": [
    "reason_map = {\n",
    "    0: 'No data',\n",
    "    1: 'Certain infectious and parasitic diseases',\n",
    "    2: 'Neoplasms',\n",
    "    3: 'Diseases of the blood and blood-forming organs and certain disorders involving the immune mechanism',\n",
    "    4: 'Endocrine, nutritional and metabolic diseases',\n",
    "    5: 'Mental and behavioural disorders',\n",
    "    6: 'Diseases of the nervous system',\n",
    "    7: 'Diseases of the eye and adnexa',\n",
    "    8: 'Diseases of the ear and mastoid process',\n",
    "    9: 'Diseases of the circulatory system',\n",
    "    10: 'Diseases of the respiratory system',\n",
    "    11: 'Diseases of the digestive system',\n",
    "    12: 'Diseases of the skin and subcutaneous tissue',\n",
    "    13: 'Diseases of the musculoskeletal system and connective tissue',\n",
    "    14: 'Diseases of the genitourinary system',\n",
    "    15: 'Pregnancy, childbirth and the puerperium',\n",
    "    16: 'Certain conditions originating in the perinatal period',\n",
    "    17: 'Congenital malformations, deformations and chromosomal abnormalities',\n",
    "    18: 'Symptoms, signs and abnormal clinical and laboratory findings, not elsewhere classified',\n",
    "    19: 'Injury, poisoning and certain other consequences of external causes',\n",
    "    20: 'External causes of morbidity and mortality',\n",
    "    21: 'Factors influencing health status and contact with health services',\n",
    "    22: 'Patient follow-up',\n",
    "    23: 'Medical consultation',\n",
    "    24: 'Blood donation',\n",
    "    25: 'Laboratory examination',\n",
    "    26: 'Unjustified absence',\n",
    "    27: 'Physiotherapy',\n",
    "    28: 'Dental consultation'}"
   ]
  },
  {
   "cell_type": "code",
   "execution_count": 30,
   "metadata": {},
   "outputs": [],
   "source": [
    "temp['Reason'] = temp['Reason for absence'].map(reason_map)"
   ]
  },
  {
   "cell_type": "code",
   "execution_count": 31,
   "metadata": {},
   "outputs": [
    {
     "data": {
      "text/html": [
       "<div>\n",
       "<style scoped>\n",
       "    .dataframe tbody tr th:only-of-type {\n",
       "        vertical-align: middle;\n",
       "    }\n",
       "\n",
       "    .dataframe tbody tr th {\n",
       "        vertical-align: top;\n",
       "    }\n",
       "\n",
       "    .dataframe thead th {\n",
       "        text-align: right;\n",
       "    }\n",
       "</style>\n",
       "<table border=\"1\" class=\"dataframe\">\n",
       "  <thead>\n",
       "    <tr style=\"text-align: right;\">\n",
       "      <th></th>\n",
       "      <th>ID</th>\n",
       "      <th>Reason for absence</th>\n",
       "      <th>Month of absence</th>\n",
       "      <th>Day of the week</th>\n",
       "      <th>Seasons</th>\n",
       "      <th>Transportation expense</th>\n",
       "      <th>Distance from Residence to Work</th>\n",
       "      <th>Service time</th>\n",
       "      <th>Age</th>\n",
       "      <th>Work load Average/day</th>\n",
       "      <th>Hit target</th>\n",
       "      <th>Disciplinary failure</th>\n",
       "      <th>Education</th>\n",
       "      <th>Son</th>\n",
       "      <th>Social drinker</th>\n",
       "      <th>Social smoker</th>\n",
       "      <th>Pet</th>\n",
       "      <th>Weight</th>\n",
       "      <th>Height</th>\n",
       "      <th>Body mass index</th>\n",
       "      <th>Absenteeism time in hours</th>\n",
       "      <th>Season Name</th>\n",
       "      <th>Day_of_the_week</th>\n",
       "      <th>Reason</th>\n",
       "    </tr>\n",
       "  </thead>\n",
       "  <tbody>\n",
       "    <tr>\n",
       "      <th>0</th>\n",
       "      <td>11</td>\n",
       "      <td>26</td>\n",
       "      <td>7</td>\n",
       "      <td>3</td>\n",
       "      <td>1</td>\n",
       "      <td>289</td>\n",
       "      <td>36</td>\n",
       "      <td>13</td>\n",
       "      <td>33</td>\n",
       "      <td>239.554</td>\n",
       "      <td>97</td>\n",
       "      <td>False</td>\n",
       "      <td>1</td>\n",
       "      <td>2</td>\n",
       "      <td>True</td>\n",
       "      <td>False</td>\n",
       "      <td>1</td>\n",
       "      <td>90</td>\n",
       "      <td>172</td>\n",
       "      <td>30</td>\n",
       "      <td>4</td>\n",
       "      <td>Summer</td>\n",
       "      <td>Tuesday</td>\n",
       "      <td>Unjustified absence</td>\n",
       "    </tr>\n",
       "    <tr>\n",
       "      <th>1</th>\n",
       "      <td>36</td>\n",
       "      <td>0</td>\n",
       "      <td>7</td>\n",
       "      <td>3</td>\n",
       "      <td>1</td>\n",
       "      <td>118</td>\n",
       "      <td>13</td>\n",
       "      <td>18</td>\n",
       "      <td>50</td>\n",
       "      <td>239.554</td>\n",
       "      <td>97</td>\n",
       "      <td>True</td>\n",
       "      <td>1</td>\n",
       "      <td>1</td>\n",
       "      <td>True</td>\n",
       "      <td>False</td>\n",
       "      <td>0</td>\n",
       "      <td>98</td>\n",
       "      <td>178</td>\n",
       "      <td>31</td>\n",
       "      <td>0</td>\n",
       "      <td>Summer</td>\n",
       "      <td>Tuesday</td>\n",
       "      <td>No data</td>\n",
       "    </tr>\n",
       "    <tr>\n",
       "      <th>2</th>\n",
       "      <td>3</td>\n",
       "      <td>23</td>\n",
       "      <td>7</td>\n",
       "      <td>4</td>\n",
       "      <td>1</td>\n",
       "      <td>179</td>\n",
       "      <td>51</td>\n",
       "      <td>18</td>\n",
       "      <td>38</td>\n",
       "      <td>239.554</td>\n",
       "      <td>97</td>\n",
       "      <td>False</td>\n",
       "      <td>1</td>\n",
       "      <td>0</td>\n",
       "      <td>True</td>\n",
       "      <td>False</td>\n",
       "      <td>0</td>\n",
       "      <td>89</td>\n",
       "      <td>170</td>\n",
       "      <td>31</td>\n",
       "      <td>2</td>\n",
       "      <td>Summer</td>\n",
       "      <td>Wednesday</td>\n",
       "      <td>Medical consultation</td>\n",
       "    </tr>\n",
       "    <tr>\n",
       "      <th>3</th>\n",
       "      <td>7</td>\n",
       "      <td>7</td>\n",
       "      <td>7</td>\n",
       "      <td>5</td>\n",
       "      <td>1</td>\n",
       "      <td>279</td>\n",
       "      <td>5</td>\n",
       "      <td>14</td>\n",
       "      <td>39</td>\n",
       "      <td>239.554</td>\n",
       "      <td>97</td>\n",
       "      <td>False</td>\n",
       "      <td>1</td>\n",
       "      <td>2</td>\n",
       "      <td>True</td>\n",
       "      <td>True</td>\n",
       "      <td>0</td>\n",
       "      <td>68</td>\n",
       "      <td>168</td>\n",
       "      <td>24</td>\n",
       "      <td>4</td>\n",
       "      <td>Summer</td>\n",
       "      <td>Thursday</td>\n",
       "      <td>Diseases of the eye and adnexa</td>\n",
       "    </tr>\n",
       "    <tr>\n",
       "      <th>4</th>\n",
       "      <td>11</td>\n",
       "      <td>23</td>\n",
       "      <td>7</td>\n",
       "      <td>5</td>\n",
       "      <td>1</td>\n",
       "      <td>289</td>\n",
       "      <td>36</td>\n",
       "      <td>13</td>\n",
       "      <td>33</td>\n",
       "      <td>239.554</td>\n",
       "      <td>97</td>\n",
       "      <td>False</td>\n",
       "      <td>1</td>\n",
       "      <td>2</td>\n",
       "      <td>True</td>\n",
       "      <td>False</td>\n",
       "      <td>1</td>\n",
       "      <td>90</td>\n",
       "      <td>172</td>\n",
       "      <td>30</td>\n",
       "      <td>2</td>\n",
       "      <td>Summer</td>\n",
       "      <td>Thursday</td>\n",
       "      <td>Medical consultation</td>\n",
       "    </tr>\n",
       "  </tbody>\n",
       "</table>\n",
       "</div>"
      ],
      "text/plain": [
       "   ID Reason for absence Month of absence Day of the week Seasons  \\\n",
       "0  11                 26                7               3       1   \n",
       "1  36                  0                7               3       1   \n",
       "2   3                 23                7               4       1   \n",
       "3   7                  7                7               5       1   \n",
       "4  11                 23                7               5       1   \n",
       "\n",
       "   Transportation expense  Distance from Residence to Work  Service time  Age  \\\n",
       "0                     289                               36            13   33   \n",
       "1                     118                               13            18   50   \n",
       "2                     179                               51            18   38   \n",
       "3                     279                                5            14   39   \n",
       "4                     289                               36            13   33   \n",
       "\n",
       "   Work load Average/day   Hit target  Disciplinary failure Education  Son  \\\n",
       "0                 239.554          97                 False         1    2   \n",
       "1                 239.554          97                  True         1    1   \n",
       "2                 239.554          97                 False         1    0   \n",
       "3                 239.554          97                 False         1    2   \n",
       "4                 239.554          97                 False         1    2   \n",
       "\n",
       "   Social drinker  Social smoker  Pet  Weight  Height  Body mass index  \\\n",
       "0            True          False    1      90     172               30   \n",
       "1            True          False    0      98     178               31   \n",
       "2            True          False    0      89     170               31   \n",
       "3            True           True    0      68     168               24   \n",
       "4            True          False    1      90     172               30   \n",
       "\n",
       "   Absenteeism time in hours Season Name Day_of_the_week  \\\n",
       "0                          4      Summer         Tuesday   \n",
       "1                          0      Summer         Tuesday   \n",
       "2                          2      Summer       Wednesday   \n",
       "3                          4      Summer        Thursday   \n",
       "4                          2      Summer        Thursday   \n",
       "\n",
       "                           Reason  \n",
       "0             Unjustified absence  \n",
       "1                         No data  \n",
       "2            Medical consultation  \n",
       "3  Diseases of the eye and adnexa  \n",
       "4            Medical consultation  "
      ]
     },
     "execution_count": 31,
     "metadata": {},
     "output_type": "execute_result"
    }
   ],
   "source": [
    "temp.head(5)"
   ]
  },
  {
   "cell_type": "code",
   "execution_count": 32,
   "metadata": {},
   "outputs": [
    {
     "name": "stdout",
     "output_type": "stream",
     "text": [
      "Classifying education according to: high school (1), graduate (2), postgraduate (3), master and doctor (4)\n"
     ]
    }
   ],
   "source": [
    "print('Classifying education according to: high school (1), graduate (2), postgraduate (3), master and doctor (4)')"
   ]
  },
  {
   "cell_type": "code",
   "execution_count": 33,
   "metadata": {},
   "outputs": [],
   "source": [
    "edu_map = {\n",
    "    1: 'High School',\n",
    "    2: 'Graduate',\n",
    "    3: 'Post Graduate',\n",
    "    4: 'Master & Doctor'\n",
    "}"
   ]
  },
  {
   "cell_type": "code",
   "execution_count": 34,
   "metadata": {},
   "outputs": [],
   "source": [
    "temp['Qualification'] = temp['Education'].map(edu_map)\n",
    "temp['Qualification'] = temp['Qualification'].astype('category')\n",
    "df['Qualification'] = df['Education'].map(edu_map)\n",
    "df['Qualification'] = df['Qualification'].astype('category')"
   ]
  },
  {
   "cell_type": "code",
   "execution_count": 35,
   "metadata": {},
   "outputs": [],
   "source": [
    "month_map = {\n",
    "    1: 'High School',\n",
    "    2: 'Graduate',\n",
    "    3: 'Post Graduate',\n",
    "    4: 'Master & Doctor'\n",
    "}"
   ]
  },
  {
   "cell_type": "code",
   "execution_count": 36,
   "metadata": {},
   "outputs": [
    {
     "data": {
      "text/html": [
       "<div>\n",
       "<style scoped>\n",
       "    .dataframe tbody tr th:only-of-type {\n",
       "        vertical-align: middle;\n",
       "    }\n",
       "\n",
       "    .dataframe tbody tr th {\n",
       "        vertical-align: top;\n",
       "    }\n",
       "\n",
       "    .dataframe thead th {\n",
       "        text-align: right;\n",
       "    }\n",
       "</style>\n",
       "<table border=\"1\" class=\"dataframe\">\n",
       "  <thead>\n",
       "    <tr style=\"text-align: right;\">\n",
       "      <th></th>\n",
       "      <th>ID</th>\n",
       "      <th>Reason for absence</th>\n",
       "      <th>Month of absence</th>\n",
       "      <th>Day of the week</th>\n",
       "      <th>Seasons</th>\n",
       "      <th>Transportation expense</th>\n",
       "      <th>Distance from Residence to Work</th>\n",
       "      <th>Service time</th>\n",
       "      <th>Age</th>\n",
       "      <th>Work load Average/day</th>\n",
       "      <th>Hit target</th>\n",
       "      <th>Disciplinary failure</th>\n",
       "      <th>Education</th>\n",
       "      <th>Son</th>\n",
       "      <th>Social drinker</th>\n",
       "      <th>Social smoker</th>\n",
       "      <th>Pet</th>\n",
       "      <th>Weight</th>\n",
       "      <th>Height</th>\n",
       "      <th>Body mass index</th>\n",
       "      <th>Absenteeism time in hours</th>\n",
       "      <th>Season Name</th>\n",
       "      <th>Day_of_the_week</th>\n",
       "      <th>Reason</th>\n",
       "      <th>Qualification</th>\n",
       "    </tr>\n",
       "  </thead>\n",
       "  <tbody>\n",
       "    <tr>\n",
       "      <th>0</th>\n",
       "      <td>11</td>\n",
       "      <td>26</td>\n",
       "      <td>7</td>\n",
       "      <td>3</td>\n",
       "      <td>1</td>\n",
       "      <td>289</td>\n",
       "      <td>36</td>\n",
       "      <td>13</td>\n",
       "      <td>33</td>\n",
       "      <td>239.554</td>\n",
       "      <td>97</td>\n",
       "      <td>False</td>\n",
       "      <td>1</td>\n",
       "      <td>2</td>\n",
       "      <td>True</td>\n",
       "      <td>False</td>\n",
       "      <td>1</td>\n",
       "      <td>90</td>\n",
       "      <td>172</td>\n",
       "      <td>30</td>\n",
       "      <td>4</td>\n",
       "      <td>Summer</td>\n",
       "      <td>Tuesday</td>\n",
       "      <td>Unjustified absence</td>\n",
       "      <td>High School</td>\n",
       "    </tr>\n",
       "    <tr>\n",
       "      <th>1</th>\n",
       "      <td>36</td>\n",
       "      <td>0</td>\n",
       "      <td>7</td>\n",
       "      <td>3</td>\n",
       "      <td>1</td>\n",
       "      <td>118</td>\n",
       "      <td>13</td>\n",
       "      <td>18</td>\n",
       "      <td>50</td>\n",
       "      <td>239.554</td>\n",
       "      <td>97</td>\n",
       "      <td>True</td>\n",
       "      <td>1</td>\n",
       "      <td>1</td>\n",
       "      <td>True</td>\n",
       "      <td>False</td>\n",
       "      <td>0</td>\n",
       "      <td>98</td>\n",
       "      <td>178</td>\n",
       "      <td>31</td>\n",
       "      <td>0</td>\n",
       "      <td>Summer</td>\n",
       "      <td>Tuesday</td>\n",
       "      <td>No data</td>\n",
       "      <td>High School</td>\n",
       "    </tr>\n",
       "    <tr>\n",
       "      <th>2</th>\n",
       "      <td>3</td>\n",
       "      <td>23</td>\n",
       "      <td>7</td>\n",
       "      <td>4</td>\n",
       "      <td>1</td>\n",
       "      <td>179</td>\n",
       "      <td>51</td>\n",
       "      <td>18</td>\n",
       "      <td>38</td>\n",
       "      <td>239.554</td>\n",
       "      <td>97</td>\n",
       "      <td>False</td>\n",
       "      <td>1</td>\n",
       "      <td>0</td>\n",
       "      <td>True</td>\n",
       "      <td>False</td>\n",
       "      <td>0</td>\n",
       "      <td>89</td>\n",
       "      <td>170</td>\n",
       "      <td>31</td>\n",
       "      <td>2</td>\n",
       "      <td>Summer</td>\n",
       "      <td>Wednesday</td>\n",
       "      <td>Medical consultation</td>\n",
       "      <td>High School</td>\n",
       "    </tr>\n",
       "    <tr>\n",
       "      <th>3</th>\n",
       "      <td>7</td>\n",
       "      <td>7</td>\n",
       "      <td>7</td>\n",
       "      <td>5</td>\n",
       "      <td>1</td>\n",
       "      <td>279</td>\n",
       "      <td>5</td>\n",
       "      <td>14</td>\n",
       "      <td>39</td>\n",
       "      <td>239.554</td>\n",
       "      <td>97</td>\n",
       "      <td>False</td>\n",
       "      <td>1</td>\n",
       "      <td>2</td>\n",
       "      <td>True</td>\n",
       "      <td>True</td>\n",
       "      <td>0</td>\n",
       "      <td>68</td>\n",
       "      <td>168</td>\n",
       "      <td>24</td>\n",
       "      <td>4</td>\n",
       "      <td>Summer</td>\n",
       "      <td>Thursday</td>\n",
       "      <td>Diseases of the eye and adnexa</td>\n",
       "      <td>High School</td>\n",
       "    </tr>\n",
       "    <tr>\n",
       "      <th>4</th>\n",
       "      <td>11</td>\n",
       "      <td>23</td>\n",
       "      <td>7</td>\n",
       "      <td>5</td>\n",
       "      <td>1</td>\n",
       "      <td>289</td>\n",
       "      <td>36</td>\n",
       "      <td>13</td>\n",
       "      <td>33</td>\n",
       "      <td>239.554</td>\n",
       "      <td>97</td>\n",
       "      <td>False</td>\n",
       "      <td>1</td>\n",
       "      <td>2</td>\n",
       "      <td>True</td>\n",
       "      <td>False</td>\n",
       "      <td>1</td>\n",
       "      <td>90</td>\n",
       "      <td>172</td>\n",
       "      <td>30</td>\n",
       "      <td>2</td>\n",
       "      <td>Summer</td>\n",
       "      <td>Thursday</td>\n",
       "      <td>Medical consultation</td>\n",
       "      <td>High School</td>\n",
       "    </tr>\n",
       "  </tbody>\n",
       "</table>\n",
       "</div>"
      ],
      "text/plain": [
       "   ID Reason for absence Month of absence Day of the week Seasons  \\\n",
       "0  11                 26                7               3       1   \n",
       "1  36                  0                7               3       1   \n",
       "2   3                 23                7               4       1   \n",
       "3   7                  7                7               5       1   \n",
       "4  11                 23                7               5       1   \n",
       "\n",
       "   Transportation expense  Distance from Residence to Work  Service time  Age  \\\n",
       "0                     289                               36            13   33   \n",
       "1                     118                               13            18   50   \n",
       "2                     179                               51            18   38   \n",
       "3                     279                                5            14   39   \n",
       "4                     289                               36            13   33   \n",
       "\n",
       "   Work load Average/day   Hit target  Disciplinary failure Education  Son  \\\n",
       "0                 239.554          97                 False         1    2   \n",
       "1                 239.554          97                  True         1    1   \n",
       "2                 239.554          97                 False         1    0   \n",
       "3                 239.554          97                 False         1    2   \n",
       "4                 239.554          97                 False         1    2   \n",
       "\n",
       "   Social drinker  Social smoker  Pet  Weight  Height  Body mass index  \\\n",
       "0            True          False    1      90     172               30   \n",
       "1            True          False    0      98     178               31   \n",
       "2            True          False    0      89     170               31   \n",
       "3            True           True    0      68     168               24   \n",
       "4            True          False    1      90     172               30   \n",
       "\n",
       "   Absenteeism time in hours Season Name Day_of_the_week  \\\n",
       "0                          4      Summer         Tuesday   \n",
       "1                          0      Summer         Tuesday   \n",
       "2                          2      Summer       Wednesday   \n",
       "3                          4      Summer        Thursday   \n",
       "4                          2      Summer        Thursday   \n",
       "\n",
       "                           Reason Qualification  \n",
       "0             Unjustified absence   High School  \n",
       "1                         No data   High School  \n",
       "2            Medical consultation   High School  \n",
       "3  Diseases of the eye and adnexa   High School  \n",
       "4            Medical consultation   High School  "
      ]
     },
     "execution_count": 36,
     "metadata": {},
     "output_type": "execute_result"
    }
   ],
   "source": [
    "temp.head()"
   ]
  },
  {
   "cell_type": "markdown",
   "metadata": {},
   "source": [
    "# Finding the mean Absenteeism time in hours of all employees"
   ]
  },
  {
   "cell_type": "code",
   "execution_count": 37,
   "metadata": {},
   "outputs": [
    {
     "data": {
      "text/plain": [
       "6.955223880597015"
      ]
     },
     "execution_count": 37,
     "metadata": {},
     "output_type": "execute_result"
    }
   ],
   "source": [
    "temp['Absenteeism time in hours'].mean()"
   ]
  },
  {
   "cell_type": "code",
   "execution_count": 38,
   "metadata": {},
   "outputs": [
    {
     "name": "stdout",
     "output_type": "stream",
     "text": [
      "We find that the Average hours of being absent is around 7\n"
     ]
    }
   ],
   "source": [
    "print(\"We find that the Average hours of being absent is around 7\")"
   ]
  },
  {
   "cell_type": "markdown",
   "metadata": {},
   "source": [
    "# DATA ANALYSIS"
   ]
  },
  {
   "cell_type": "markdown",
   "metadata": {},
   "source": [
    "# Distribution Of Employees according to their qualification"
   ]
  },
  {
   "cell_type": "code",
   "execution_count": 39,
   "metadata": {},
   "outputs": [
    {
     "data": {
      "image/png": "[encoded data removed]",
      "text/plain": [
       "<Figure size 432x432 with 1 Axes>"
      ]
     },
     "metadata": {
      "needs_background": "light"
     },
     "output_type": "display_data"
    }
   ],
   "source": [
    "qualification_count = df.groupby(['Qualification']).agg({'ID': pd.Series.nunique})\n",
    "ax =qualification_count.plot(kind='bar', figsize=(6,6), legend=True)\n",
    "for i, j in enumerate(qualification_count.values):\n",
    "    ax.text(i-0.05, j +0.3 , str(j[0])) \n",
    "ax.set_xlabel('Qualification')\n",
    "ax.set_ylabel('Number of Employees')\n",
    "ax.set_title('Distribution Of Employees according to their qualification')\n",
    "plt.show()"
   ]
  },
  {
   "cell_type": "code",
   "execution_count": 40,
   "metadata": {},
   "outputs": [
    {
     "name": "stdout",
     "output_type": "stream",
     "text": [
      "We see maximum number of employees have High School as their highest qualification\n"
     ]
    }
   ],
   "source": [
    "print('We see maximum number of employees have High School as their highest qualification')"
   ]
  },
  {
   "cell_type": "markdown",
   "metadata": {},
   "source": [
    "# Distribution Of Employees according to their Age"
   ]
  },
  {
   "cell_type": "code",
   "execution_count": 41,
   "metadata": {},
   "outputs": [
    {
     "data": {
      "image/png": "[encoded data removed]",
      "text/plain": [
       "<Figure size 720x432 with 1 Axes>"
      ]
     },
     "metadata": {
      "needs_background": "light"
     },
     "output_type": "display_data"
    }
   ],
   "source": [
    "count1 = temp.groupby(['Age']).agg({'ID': pd.Series.nunique})\n",
    "ax = count1.plot(kind='bar', figsize=(10,6), legend=True)\n",
    "for i, j in enumerate(count1.values):\n",
    "    ax.text(i-0.05, j +0.05, str(j[0]))\n",
    "ax.set_xlabel('Count of employees')\n",
    "ax.set_ylabel('Age')\n",
    "ax.set_title('Distribution Of Employees according to their Age')\n",
    "plt.grid()\n",
    "plt.show()"
   ]
  },
  {
   "cell_type": "markdown",
   "metadata": {},
   "source": [
    "# Showing how Absenteeism time in hours is varying with Age"
   ]
  },
  {
   "cell_type": "code",
   "execution_count": 42,
   "metadata": {
    "scrolled": true
   },
   "outputs": [
    {
     "data": {
      "image/png": "[encoded data removed]",
      "text/plain": [
       "<Figure size 720x360 with 1 Axes>"
      ]
     },
     "metadata": {
      "needs_background": "light"
     },
     "output_type": "display_data"
    }
   ],
   "source": [
    "age_count = temp.groupby('Age')[['Absenteeism time in hours']].mean()\n",
    "ax = age_count.plot(kind='bar', figsize=(10,5), legend=False)\n",
    "for i, j in enumerate(age_count.values):\n",
    "    ax.text(i-.2, j+0.5 , str(int(np.round(j))))\n",
    "ax.set_ylabel('Absenteeism time in hours')\n",
    "ax.set_title('Distribution of Absenteeism time in hours with respect to Age')\n",
    "plt.show()"
   ]
  },
  {
   "cell_type": "markdown",
   "metadata": {},
   "source": [
    "# This graph shows, that hours of absence have some correlation with age of employee ,i.e More the Age,more is the tendency to take leaves."
   ]
  },
  {
   "cell_type": "markdown",
   "metadata": {},
   "source": [
    "# Another graph showing,how age plays a factor in hours of absence"
   ]
  },
  {
   "cell_type": "code",
   "execution_count": 43,
   "metadata": {},
   "outputs": [
    {
     "data": {
      "text/plain": [
       "Text(0.5, 1.0, 'Distribution Of Employees according to their Age')"
      ]
     },
     "execution_count": 43,
     "metadata": {},
     "output_type": "execute_result"
    },
    {
     "data": {
      "image/png": "[encoded data removed]",
      "text/plain": [
       "<Figure size 432x432 with 3 Axes>"
      ]
     },
     "metadata": {
      "needs_background": "light"
     },
     "output_type": "display_data"
    }
   ],
   "source": [
    "sns.jointplot(x='Age',y='Absenteeism time in hours',data=temp,kind='scatter',color='blue')\n",
    "ax.set_xlabel('Age')\n",
    "ax.set_ylabel('Absenteeism time in hours')\n",
    "ax.set_title('Distribution Of Employees according to their Age')"
   ]
  },
  {
   "cell_type": "markdown",
   "metadata": {},
   "source": [
    "# Ilustrating how Absenteeism is affected by presence of children"
   ]
  },
  {
   "cell_type": "code",
   "execution_count": 44,
   "metadata": {},
   "outputs": [
    {
     "data": {
      "text/plain": [
       "<seaborn.axisgrid.FacetGrid at 0x221a8b1fb20>"
      ]
     },
     "execution_count": 44,
     "metadata": {},
     "output_type": "execute_result"
    },
    {
     "data": {
      "image/png": "[encoded data removed]",
      "text/plain": [
       "<Figure size 1080x216 with 5 Axes>"
      ]
     },
     "metadata": {
      "needs_background": "light"
     },
     "output_type": "display_data"
    }
   ],
   "source": [
    "ax = sns.FacetGrid(data=temp,col='Son')\n",
    "ax.map(plt.hist,'Absenteeism time in hours')"
   ]
  },
  {
   "cell_type": "code",
   "execution_count": 45,
   "metadata": {},
   "outputs": [
    {
     "name": "stdout",
     "output_type": "stream",
     "text": [
      "Here all possible options for \"Son\"(i.e 0,1,2,3,4) column are shown in their correlation with absence time. We can see that employees with none, 1 or 2 children, are more likely to be absent at work.\n"
     ]
    }
   ],
   "source": [
    "print('Here all possible options for \"Son\"(i.e 0,1,2,3,4) column are shown in their correlation with absence time. We can see that employees with none, 1 or 2 children, are more likely to be absent at work.')"
   ]
  },
  {
   "cell_type": "markdown",
   "metadata": {},
   "source": [
    "# Ilustrating If Absenteeism is affected by presence of pets"
   ]
  },
  {
   "cell_type": "code",
   "execution_count": 46,
   "metadata": {},
   "outputs": [
    {
     "name": "stderr",
     "output_type": "stream",
     "text": [
      "<ipython-input-46-4684c53fcf48>:1: FutureWarning: Indexing with multiple keys (implicitly converted to a tuple of keys) will be deprecated, use a list instead.\n",
      "  pet_count = temp.groupby('ID')['Pet','Absenteeism time in hours'].sum()\n"
     ]
    },
    {
     "data": {
      "image/png": "[encoded data removed]",
      "text/plain": [
       "<Figure size 720x360 with 1 Axes>"
      ]
     },
     "metadata": {
      "needs_background": "light"
     },
     "output_type": "display_data"
    }
   ],
   "source": [
    "pet_count = temp.groupby('ID')['Pet','Absenteeism time in hours'].sum()\n",
    "ax = pet_count.plot(kind='bar', figsize=(10,5), legend=True)\n",
    "ax.set_ylabel('Count')\n",
    "ax.set_title('Distribution of Workers with respect to the liklihood of presence of both a pet and a child in a workers family')\n",
    "plt.grid()\n",
    "plt.show()"
   ]
  },
  {
   "cell_type": "code",
   "execution_count": 47,
   "metadata": {},
   "outputs": [
    {
     "data": {
      "text/plain": [
       "<seaborn.axisgrid.FacetGrid at 0x221a89e28e0>"
      ]
     },
     "execution_count": 47,
     "metadata": {},
     "output_type": "execute_result"
    },
    {
     "data": {
      "image/png": "[encoded data removed]",
      "text/plain": [
       "<Figure size 1296x216 with 6 Axes>"
      ]
     },
     "metadata": {
      "needs_background": "light"
     },
     "output_type": "display_data"
    }
   ],
   "source": [
    "ax = sns.FacetGrid(data=temp,col='Pet')\n",
    "ax.map(plt.hist,'Absenteeism time in hours')"
   ]
  },
  {
   "cell_type": "markdown",
   "metadata": {},
   "source": [
    "# We see that presence of a Pet is not likely to affect the Absenteeism of employees"
   ]
  },
  {
   "cell_type": "markdown",
   "metadata": {},
   "source": [
    "# Ilustrating the liklihood of presence of both a pet and a child in an employees family"
   ]
  },
  {
   "cell_type": "code",
   "execution_count": 48,
   "metadata": {},
   "outputs": [
    {
     "name": "stderr",
     "output_type": "stream",
     "text": [
      "<ipython-input-48-49eb12427ebe>:1: FutureWarning: Indexing with multiple keys (implicitly converted to a tuple of keys) will be deprecated, use a list instead.\n",
      "  son_pet_count = temp.groupby('ID')['Pet','Son'].mean()\n"
     ]
    },
    {
     "data": {
      "image/png": "[encoded data removed]",
      "text/plain": [
       "<Figure size 720x360 with 1 Axes>"
      ]
     },
     "metadata": {
      "needs_background": "light"
     },
     "output_type": "display_data"
    }
   ],
   "source": [
    "son_pet_count = temp.groupby('ID')['Pet','Son'].mean()\n",
    "ax = son_pet_count.plot(kind='bar', figsize=(10,5), legend=True)\n",
    "ax.set_ylabel('Count')\n",
    "ax.set_title('Distribution of Workers with respect to the liklihood of presence of both a pet and a child in a employees family')\n",
    "plt.grid()\n",
    "plt.show()"
   ]
  },
  {
   "cell_type": "markdown",
   "metadata": {},
   "source": [
    "# Thus we can see that employees having a child are most likely to have a pet as well and viceversa"
   ]
  },
  {
   "cell_type": "markdown",
   "metadata": {},
   "source": [
    "# Analysis Of Relationship between Absenteeism and Seasons :\n"
   ]
  },
  {
   "cell_type": "code",
   "execution_count": 49,
   "metadata": {},
   "outputs": [
    {
     "data": {
      "text/plain": [
       "<seaborn.axisgrid.JointGrid at 0x221a8ec5850>"
      ]
     },
     "execution_count": 49,
     "metadata": {},
     "output_type": "execute_result"
    },
    {
     "data": {
      "image/png": "[encoded data removed]",
      "text/plain": [
       "<Figure size 432x432 with 3 Axes>"
      ]
     },
     "metadata": {
      "needs_background": "light"
     },
     "output_type": "display_data"
    }
   ],
   "source": [
    "sns.jointplot(x='Absenteeism time in hours',y='Season Name',data=temp,kind='hist',color='black')"
   ]
  },
  {
   "cell_type": "code",
   "execution_count": 50,
   "metadata": {},
   "outputs": [
    {
     "data": {
      "image/png": "[encoded data removed]",
      "text/plain": [
       "<Figure size 576x432 with 1 Axes>"
      ]
     },
     "metadata": {
      "needs_background": "light"
     },
     "output_type": "display_data"
    }
   ],
   "source": [
    "season_count = temp.groupby('Season Name')[['Absenteeism time in hours']].sum()\n",
    "ax = season_count.plot(kind='bar', figsize=(8,6), legend=False)\n",
    "for i, j in enumerate(season_count.values):\n",
    "    ax.text(i-.2, j+20 , str(j[0].mean()))\n",
    "ax.set_ylabel('Absenteeism time in hours')\n",
    "ax.set_title('Average Absenteeism time in hours with respect to Seasons')\n",
    "plt.show()"
   ]
  },
  {
   "cell_type": "markdown",
   "metadata": {},
   "source": [
    "# We can see that maximum absenteeism at work is seen in Winter season"
   ]
  },
  {
   "cell_type": "markdown",
   "metadata": {},
   "source": [
    "# Analysing Relationship between Absenteeism and Day of the week :"
   ]
  },
  {
   "cell_type": "code",
   "execution_count": 51,
   "metadata": {},
   "outputs": [
    {
     "name": "stderr",
     "output_type": "stream",
     "text": [
      "C:\\Users\\soura\\anaconda3\\lib\\site-packages\\seaborn\\regression.py:580: UserWarning: The `size` parameter has been renamed to `height`; please update your code.\n",
      "  warnings.warn(msg, UserWarning)\n"
     ]
    },
    {
     "data": {
      "text/plain": [
       "<seaborn.axisgrid.FacetGrid at 0x221a71b4e50>"
      ]
     },
     "execution_count": 51,
     "metadata": {},
     "output_type": "execute_result"
    },
    {
     "data": {
      "text/plain": [
       "<Figure size 864x432 with 0 Axes>"
      ]
     },
     "metadata": {},
     "output_type": "display_data"
    },
    {
     "data": {
      "image/png": "[encoded data removed]",
      "text/plain": [
       "<Figure size 814.875x360 with 1 Axes>"
      ]
     },
     "metadata": {
      "needs_background": "light"
     },
     "output_type": "display_data"
    }
   ],
   "source": [
    "plt.figure(figsize=(12,6))\n",
    "sns.lmplot(x='ID',y='Absenteeism time in hours',data=temp,hue='Day_of_the_week',size=5,aspect=2)"
   ]
  },
  {
   "cell_type": "code",
   "execution_count": 52,
   "metadata": {},
   "outputs": [
    {
     "data": {
      "image/png": "[encoded data removed]",
      "text/plain": [
       "<Figure size 576x720 with 1 Axes>"
      ]
     },
     "metadata": {
      "needs_background": "light"
     },
     "output_type": "display_data"
    }
   ],
   "source": [
    "day_count = temp.groupby('Day_of_the_week')[['Absenteeism time in hours']].mean()\n",
    "ax = day_count.plot(kind='bar', figsize=(8,10), legend=False)\n",
    "for i, j in enumerate(day_count.values):\n",
    "    ax.text(i, j+0.2, str(int(np.round(j))))\n",
    "ax.set_ylabel('Average Absenteeism time in hours')\n",
    "ax.set_title('Average Absenteeism time in hours by Day of the week')\n",
    "plt.show()"
   ]
  },
  {
   "cell_type": "markdown",
   "metadata": {},
   "source": [
    "# #Thus we can see that maximum leaves are taken on Mondays"
   ]
  },
  {
   "cell_type": "markdown",
   "metadata": {},
   "source": [
    "# illustrating total Absenteeism time in hours with respect to reasons used:"
   ]
  },
  {
   "cell_type": "code",
   "execution_count": 53,
   "metadata": {},
   "outputs": [
    {
     "data": {
      "image/png": "[encoded data removed]",
      "text/plain": [
       "<Figure size 720x720 with 1 Axes>"
      ]
     },
     "metadata": {
      "needs_background": "light"
     },
     "output_type": "display_data"
    }
   ],
   "source": [
    "reason_count= temp.groupby('Reason for absence')\n",
    "reason_count['Absenteeism time in hours'].sum()\n",
    "arr=reason_count['Absenteeism time in hours'].sum()\n",
    "arr=np.array(arr)\n",
    "fig, ax = plt.subplots(figsize=(10,10))\n",
    "table=[\n",
    "'No Data','Certain infectious and parasitic diseases', \n",
    "'Neoplasms', \n",
    "'blood-forming organs and involving the immune mechanism', \n",
    "'Endocrine, nutritional and metabolic diseases', \n",
    "'Mental and behavioural disorders', \n",
    "'Diseases of the nervous system', \n",
    "'Diseases of the eye and adnexa', \n",
    "'Diseases of the ear and mastoid process', \n",
    "'Diseases of the circulatory system', \n",
    "'Diseases of the respiratory system', \n",
    "'Diseases of the digestive system', \n",
    "'Diseases of the skin and subcutaneous tissue', \n",
    "'Diseases of the musculoskeletal system and connective tissue', \n",
    "'Diseases of the genitourinary system',\n",
    "'Pregnancy, childbirth and the puerperium',\n",
    "'Certain conditions originating in the perinatal period',\n",
    "'Congenital malformations, deformations and chromosomal abnormalities', \n",
    "'Symptoms, signs and abnormal clinical and laboratory findings', \n",
    "'Injury, poisoning and certain other consequences of external causes', \n",
    "'Factors influencing health status and contact with health services.',\n",
    "'patient follow-up',\n",
    "'medical consultation',\n",
    "'blood donation',\n",
    "'laboratory examination',\n",
    "'unjustified absence',\n",
    "'physiotherapy',\n",
    "'dental consultation']\n",
    "plt.barh(y=np.arange(len(arr)),width=arr,label='No. of Employee',color='brown')\n",
    "plt.yticks(np.arange(len(arr)),table)\n",
    "plt.ylabel('Reason of Absence',fontweight='bold')\n",
    "plt.xlabel('Count of Employee',fontweight='bold')\n",
    "plt.title('Graph illustrating total Absenteeism time in hours with respect to reasons used: ',fontweight='bold',color='black')\n",
    "plt.legend()\n",
    "for i, v in enumerate(arr):\n",
    "    ax.text(v+2, i, str(v), color='black')\n",
    "plt.show()"
   ]
  },
  {
   "cell_type": "code",
   "execution_count": 54,
   "metadata": {},
   "outputs": [
    {
     "data": {
      "text/html": [
       "<style  type=\"text/css\" >\n",
       "</style><table id=\"T_777375cf_91e0_11eb_ad67_70f39587ed62\" ><thead>    <tr>        <th class=\"col_heading level0 col0\" >Reason</th>        <th class=\"col_heading level0 col1\" >Absenteeism time in hours</th>    </tr></thead><tbody>\n",
       "                <tr>\n",
       "                                <td id=\"T_777375cf_91e0_11eb_ad67_70f39587ed62row0_col0\" class=\"data row0 col0\" >Diseases of the musculoskeletal system and connective tissue</td>\n",
       "                        <td id=\"T_777375cf_91e0_11eb_ad67_70f39587ed62row0_col1\" class=\"data row0 col1\" >842</td>\n",
       "            </tr>\n",
       "            <tr>\n",
       "                                <td id=\"T_777375cf_91e0_11eb_ad67_70f39587ed62row1_col0\" class=\"data row1 col0\" >Injury, poisoning and certain other consequences of external causes</td>\n",
       "                        <td id=\"T_777375cf_91e0_11eb_ad67_70f39587ed62row1_col1\" class=\"data row1 col1\" >729</td>\n",
       "            </tr>\n",
       "            <tr>\n",
       "                                <td id=\"T_777375cf_91e0_11eb_ad67_70f39587ed62row2_col0\" class=\"data row2 col0\" >Medical consultation</td>\n",
       "                        <td id=\"T_777375cf_91e0_11eb_ad67_70f39587ed62row2_col1\" class=\"data row2 col1\" >424</td>\n",
       "            </tr>\n",
       "            <tr>\n",
       "                                <td id=\"T_777375cf_91e0_11eb_ad67_70f39587ed62row3_col0\" class=\"data row3 col0\" >Dental consultation</td>\n",
       "                        <td id=\"T_777375cf_91e0_11eb_ad67_70f39587ed62row3_col1\" class=\"data row3 col1\" >335</td>\n",
       "            </tr>\n",
       "            <tr>\n",
       "                                <td id=\"T_777375cf_91e0_11eb_ad67_70f39587ed62row4_col0\" class=\"data row4 col0\" >Diseases of the digestive system</td>\n",
       "                        <td id=\"T_777375cf_91e0_11eb_ad67_70f39587ed62row4_col1\" class=\"data row4 col1\" >297</td>\n",
       "            </tr>\n",
       "            <tr>\n",
       "                                <td id=\"T_777375cf_91e0_11eb_ad67_70f39587ed62row5_col0\" class=\"data row5 col0\" >Patient follow-up</td>\n",
       "                        <td id=\"T_777375cf_91e0_11eb_ad67_70f39587ed62row5_col1\" class=\"data row5 col1\" >293</td>\n",
       "            </tr>\n",
       "            <tr>\n",
       "                                <td id=\"T_777375cf_91e0_11eb_ad67_70f39587ed62row6_col0\" class=\"data row6 col0\" >Diseases of the respiratory system</td>\n",
       "                        <td id=\"T_777375cf_91e0_11eb_ad67_70f39587ed62row6_col1\" class=\"data row6 col1\" >276</td>\n",
       "            </tr>\n",
       "            <tr>\n",
       "                                <td id=\"T_777375cf_91e0_11eb_ad67_70f39587ed62row7_col0\" class=\"data row7 col0\" >Unjustified absence</td>\n",
       "                        <td id=\"T_777375cf_91e0_11eb_ad67_70f39587ed62row7_col1\" class=\"data row7 col1\" >240</td>\n",
       "            </tr>\n",
       "            <tr>\n",
       "                                <td id=\"T_777375cf_91e0_11eb_ad67_70f39587ed62row8_col0\" class=\"data row8 col0\" >Symptoms, signs and abnormal clinical and laboratory findings, not elsewhere classified</td>\n",
       "                        <td id=\"T_777375cf_91e0_11eb_ad67_70f39587ed62row8_col1\" class=\"data row8 col1\" >217</td>\n",
       "            </tr>\n",
       "            <tr>\n",
       "                                <td id=\"T_777375cf_91e0_11eb_ad67_70f39587ed62row9_col0\" class=\"data row9 col0\" >Diseases of the skin and subcutaneous tissue</td>\n",
       "                        <td id=\"T_777375cf_91e0_11eb_ad67_70f39587ed62row9_col1\" class=\"data row9 col1\" >187</td>\n",
       "            </tr>\n",
       "            <tr>\n",
       "                                <td id=\"T_777375cf_91e0_11eb_ad67_70f39587ed62row10_col0\" class=\"data row10 col0\" >Certain infectious and parasitic diseases</td>\n",
       "                        <td id=\"T_777375cf_91e0_11eb_ad67_70f39587ed62row10_col1\" class=\"data row10 col1\" >182</td>\n",
       "            </tr>\n",
       "            <tr>\n",
       "                                <td id=\"T_777375cf_91e0_11eb_ad67_70f39587ed62row11_col0\" class=\"data row11 col0\" >Diseases of the nervous system</td>\n",
       "                        <td id=\"T_777375cf_91e0_11eb_ad67_70f39587ed62row11_col1\" class=\"data row11 col1\" >171</td>\n",
       "            </tr>\n",
       "            <tr>\n",
       "                                <td id=\"T_777375cf_91e0_11eb_ad67_70f39587ed62row12_col0\" class=\"data row12 col0\" >Diseases of the circulatory system</td>\n",
       "                        <td id=\"T_777375cf_91e0_11eb_ad67_70f39587ed62row12_col1\" class=\"data row12 col1\" >168</td>\n",
       "            </tr>\n",
       "            <tr>\n",
       "                                <td id=\"T_777375cf_91e0_11eb_ad67_70f39587ed62row13_col0\" class=\"data row13 col0\" >Diseases of the genitourinary system</td>\n",
       "                        <td id=\"T_777375cf_91e0_11eb_ad67_70f39587ed62row13_col1\" class=\"data row13 col1\" >167</td>\n",
       "            </tr>\n",
       "            <tr>\n",
       "                                <td id=\"T_777375cf_91e0_11eb_ad67_70f39587ed62row14_col0\" class=\"data row14 col0\" >Physiotherapy</td>\n",
       "                        <td id=\"T_777375cf_91e0_11eb_ad67_70f39587ed62row14_col1\" class=\"data row14 col1\" >159</td>\n",
       "            </tr>\n",
       "            <tr>\n",
       "                                <td id=\"T_777375cf_91e0_11eb_ad67_70f39587ed62row15_col0\" class=\"data row15 col0\" >Diseases of the eye and adnexa</td>\n",
       "                        <td id=\"T_777375cf_91e0_11eb_ad67_70f39587ed62row15_col1\" class=\"data row15 col1\" >150</td>\n",
       "            </tr>\n",
       "            <tr>\n",
       "                                <td id=\"T_777375cf_91e0_11eb_ad67_70f39587ed62row16_col0\" class=\"data row16 col0\" >Laboratory examination</td>\n",
       "                        <td id=\"T_777375cf_91e0_11eb_ad67_70f39587ed62row16_col1\" class=\"data row16 col1\" >108</td>\n",
       "            </tr>\n",
       "            <tr>\n",
       "                                <td id=\"T_777375cf_91e0_11eb_ad67_70f39587ed62row17_col0\" class=\"data row17 col0\" >Factors influencing health status and contact with health services</td>\n",
       "                        <td id=\"T_777375cf_91e0_11eb_ad67_70f39587ed62row17_col1\" class=\"data row17 col1\" >35</td>\n",
       "            </tr>\n",
       "            <tr>\n",
       "                                <td id=\"T_777375cf_91e0_11eb_ad67_70f39587ed62row18_col0\" class=\"data row18 col0\" >Diseases of the ear and mastoid process</td>\n",
       "                        <td id=\"T_777375cf_91e0_11eb_ad67_70f39587ed62row18_col1\" class=\"data row18 col1\" >32</td>\n",
       "            </tr>\n",
       "            <tr>\n",
       "                                <td id=\"T_777375cf_91e0_11eb_ad67_70f39587ed62row19_col0\" class=\"data row19 col0\" >Blood donation</td>\n",
       "                        <td id=\"T_777375cf_91e0_11eb_ad67_70f39587ed62row19_col1\" class=\"data row19 col1\" >24</td>\n",
       "            </tr>\n",
       "            <tr>\n",
       "                                <td id=\"T_777375cf_91e0_11eb_ad67_70f39587ed62row20_col0\" class=\"data row20 col0\" >Neoplasms</td>\n",
       "                        <td id=\"T_777375cf_91e0_11eb_ad67_70f39587ed62row20_col1\" class=\"data row20 col1\" >24</td>\n",
       "            </tr>\n",
       "            <tr>\n",
       "                                <td id=\"T_777375cf_91e0_11eb_ad67_70f39587ed62row21_col0\" class=\"data row21 col0\" >Mental and behavioural disorders</td>\n",
       "                        <td id=\"T_777375cf_91e0_11eb_ad67_70f39587ed62row21_col1\" class=\"data row21 col1\" >19</td>\n",
       "            </tr>\n",
       "            <tr>\n",
       "                                <td id=\"T_777375cf_91e0_11eb_ad67_70f39587ed62row22_col0\" class=\"data row22 col0\" >Pregnancy, childbirth and the puerperium</td>\n",
       "                        <td id=\"T_777375cf_91e0_11eb_ad67_70f39587ed62row22_col1\" class=\"data row22 col1\" >16</td>\n",
       "            </tr>\n",
       "            <tr>\n",
       "                                <td id=\"T_777375cf_91e0_11eb_ad67_70f39587ed62row23_col0\" class=\"data row23 col0\" >Endocrine, nutritional and metabolic diseases</td>\n",
       "                        <td id=\"T_777375cf_91e0_11eb_ad67_70f39587ed62row23_col1\" class=\"data row23 col1\" >9</td>\n",
       "            </tr>\n",
       "            <tr>\n",
       "                                <td id=\"T_777375cf_91e0_11eb_ad67_70f39587ed62row24_col0\" class=\"data row24 col0\" >Congenital malformations, deformations and chromosomal abnormalities</td>\n",
       "                        <td id=\"T_777375cf_91e0_11eb_ad67_70f39587ed62row24_col1\" class=\"data row24 col1\" >8</td>\n",
       "            </tr>\n",
       "            <tr>\n",
       "                                <td id=\"T_777375cf_91e0_11eb_ad67_70f39587ed62row25_col0\" class=\"data row25 col0\" >Diseases of the blood and blood-forming organs and certain disorders involving the immune mechanism</td>\n",
       "                        <td id=\"T_777375cf_91e0_11eb_ad67_70f39587ed62row25_col1\" class=\"data row25 col1\" >8</td>\n",
       "            </tr>\n",
       "            <tr>\n",
       "                                <td id=\"T_777375cf_91e0_11eb_ad67_70f39587ed62row26_col0\" class=\"data row26 col0\" >Certain conditions originating in the perinatal period</td>\n",
       "                        <td id=\"T_777375cf_91e0_11eb_ad67_70f39587ed62row26_col1\" class=\"data row26 col1\" >6</td>\n",
       "            </tr>\n",
       "            <tr>\n",
       "                                <td id=\"T_777375cf_91e0_11eb_ad67_70f39587ed62row27_col0\" class=\"data row27 col0\" >No data</td>\n",
       "                        <td id=\"T_777375cf_91e0_11eb_ad67_70f39587ed62row27_col1\" class=\"data row27 col1\" >0</td>\n",
       "            </tr>\n",
       "    </tbody></table>"
      ],
      "text/plain": [
       "<pandas.io.formats.style.Styler at 0x221a76a8d30>"
      ]
     },
     "metadata": {},
     "output_type": "display_data"
    }
   ],
   "source": [
    "reason = temp.groupby('Reason', as_index=False)['Absenteeism time in hours'].sum()\n",
    "with pd.option_context('display.max_colwidth', -1):\n",
    "    display(reason.sort_values('Absenteeism time in hours', ascending=False).style.hide_index())"
   ]
  },
  {
   "cell_type": "markdown",
   "metadata": {},
   "source": [
    "# Showing how smoking and drinking plays a role in Absenteeism "
   ]
  },
  {
   "cell_type": "code",
   "execution_count": 55,
   "metadata": {},
   "outputs": [
    {
     "data": {
      "image/png": "[encoded data removed]",
      "text/plain": [
       "<Figure size 576x432 with 1 Axes>"
      ]
     },
     "metadata": {},
     "output_type": "display_data"
    }
   ],
   "source": [
    "drink_sum = temp[(temp['Social drinker'] == True) & (temp['Social smoker']==False)]['Absenteeism time in hours'].sum()\n",
    "smok_sum = temp[(temp['Social drinker'] == False) & (temp['Social smoker']==True)]['Absenteeism time in hours'].sum()\n",
    "drink_smok_sum = temp[(temp['Social drinker'] == True) & (temp['Social smoker']==True)]['Absenteeism time in hours'].sum()\n",
    "abs_sum = temp[(temp['Social drinker'] == False) & (temp['Social smoker']==False)]['Absenteeism time in hours'].sum()\n",
    "absen = [drink_sum, smok_sum, drink_smok_sum, abs_sum]\n",
    "explode = (0, 0, 0, 0)\n",
    "labels = 'Social drinker', 'Social smoker', 'Social drinker & Social smoker', 'Not a social drinker&smoker'\n",
    "fig1, ax1 = plt.subplots(figsize=(8, 6))\n",
    "ax1.pie(absen, explode=explode, labels=labels, autopct='%1.1f%%', startangle=90)\n",
    "ax1.set_title('Absenteeism with respect to  Social Drinkers, Social Smokers, Both and Neither',fontweight='bold')\n",
    "ax1.axis('equal')  \n",
    "\n",
    "plt.show()\n"
   ]
  },
  {
   "cell_type": "markdown",
   "metadata": {},
   "source": [
    "# Thus we can see that Total absenteeism constitutes of 59.8% of social drinkers indicating that it plays a role in the absenteeism nature among employees"
   ]
  },
  {
   "cell_type": "markdown",
   "metadata": {},
   "source": [
    "# Showing which month has the highest Absenteeism time: "
   ]
  },
  {
   "cell_type": "code",
   "execution_count": 56,
   "metadata": {},
   "outputs": [
    {
     "data": {
      "image/png": "[encoded data removed]",
      "text/plain": [
       "<Figure size 576x432 with 1 Axes>"
      ]
     },
     "metadata": {
      "needs_background": "light"
     },
     "output_type": "display_data"
    }
   ],
   "source": [
    "month = temp.groupby('Month of absence')['Absenteeism time in hours'].sum()\n",
    "ax = month.plot(kind='bar', figsize=(8,6), legend=False)\n",
    "for i, v in enumerate(month.values):\n",
    "    ax.text(i-0.3, v + 5, str(np.int(np.round(v))), color='red')\n",
    "ax.set_xlabel('Month')\n",
    "ax.set_ylabel('Sum of Absenteeism hours')\n",
    "ax.set_title('Sum of Absenteeism hours by Month')\n",
    "plt.show()"
   ]
  },
  {
   "cell_type": "markdown",
   "metadata": {},
   "source": [
    "# We see that the month of March(3) has the highest number of Absents"
   ]
  },
  {
   "cell_type": "markdown",
   "metadata": {},
   "source": [
    "# Thus we can see that there are a number of factors that plays a key role in the absenteeism nature among the employees and certain regulations can help reduce this tendency."
   ]
  },
  {
   "cell_type": "code",
   "execution_count": null,
   "metadata": {},
   "outputs": [],
   "source": []
  }
 ],
 "metadata": {
  "kernelspec": {
   "display_name": "Python 3",
   "language": "python",
   "name": "python3"
  },
  "language_info": {
   "codemirror_mode": {
    "name": "ipython",
    "version": 3
   },
   "file_extension": ".py",
   "mimetype": "text/x-python",
   "name": "python",
   "nbconvert_exporter": "python",
   "pygments_lexer": "ipython3",
   "version": "3.8.5"
  }
 },
 "nbformat": 4,
 "nbformat_minor": 4
}
